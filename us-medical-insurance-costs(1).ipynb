{
 "cells": [
  {
   "cell_type": "markdown",
   "metadata": {},
   "source": [
    "# U.S. Medical Insurance Costs"
   ]
  },
  {
   "cell_type": "code",
   "execution_count": 41,
   "metadata": {},
   "outputs": [],
   "source": [
    "# Goal of this project is to find the cost difference between smoker and non-smokers?\n",
    "# Average cost per individual in each region\n",
    "# the region with the highest BMI\n",
    "import csv\n",
    "import pandas as pd"
   ]
  },
  {
   "cell_type": "code",
   "execution_count": 33,
   "metadata": {},
   "outputs": [],
   "source": [
    "# variables for all the information in the csv file\n",
    "age = []\n",
    "sex = []\n",
    "BMI = []\n",
    "children = []\n",
    "smoker = []\n",
    "region = []\n",
    "charges = []"
   ]
  },
  {
   "cell_type": "code",
   "execution_count": 42,
   "metadata": {},
   "outputs": [],
   "source": [
    "df = pd.read_csv(\"insurance.csv\")\n",
    "insurance_data = []\n",
    "with open('insurance.csv', newline = '') as insurance:\n",
    "    insurance_info = csv.DictReader(insurance)\n",
    "    for row in insurance_info:\n",
    "        age.append(row['age'])\n",
    "        sex.append(row['sex'])\n",
    "        BMI.append(row['bmi'])\n",
    "        children.append(row['children'])\n",
    "        smoker.append(row['smoker'])\n",
    "        region.append(row['region'])\n",
    "        charges.append(row['charges'])\n",
    "  \n",
    "  \n",
    "            \n",
    "      "
   ]
  },
  {
   "cell_type": "code",
   "execution_count": 43,
   "metadata": {},
   "outputs": [
    {
     "name": "stdout",
     "output_type": "stream",
     "text": [
      "The average cost per individual is 13270\n"
     ]
    }
   ],
   "source": [
    " # Average cost per individual\n",
    " def average_cost_total(charges):\n",
    "    total_charges = 0\n",
    "    for cost in charges:\n",
    "        cost = float(cost)\n",
    "        total_charges += cost\n",
    "    average_cost = total_charges/len(charges)\n",
    "    return int(average_cost)\n",
    "print(\"The average cost per individual is \" + str(average_cost_total(charges)))  "
   ]
  },
  {
   "cell_type": "markdown",
   "metadata": {},
   "source": [
    "The average cost per individual is 13270."
   ]
  },
  {
   "cell_type": "code",
   "execution_count": 44,
   "metadata": {},
   "outputs": [
    {
     "name": "stdout",
     "output_type": "stream",
     "text": [
      "region\n",
      "northeast    13406.384516\n",
      "northwest    12417.575374\n",
      "southeast    14735.411438\n",
      "southwest    12346.937377\n",
      "Name: charges, dtype: float64\n"
     ]
    }
   ],
   "source": [
    "\n",
    "average_charges_by_region = df.groupby(\"region\")[\"charges\"].mean()\n",
    "print(average_charges_by_region)\n"
   ]
  },
  {
   "cell_type": "markdown",
   "metadata": {},
   "source": [
    "The Average cost per region is:\n",
    "Northeast = 13406.38\n",
    "Northwest = 12417.58\n",
    "Southeast = 14735.41\n",
    "Southwest = 12346.94\n",
    "The Southeast has the highest average insurance cost."
   ]
  },
  {
   "cell_type": "code",
   "execution_count": 45,
   "metadata": {},
   "outputs": [
    {
     "name": "stdout",
     "output_type": "stream",
     "text": [
      "region\n",
      "northeast    29.173503\n",
      "northwest    29.199785\n",
      "southeast    33.355989\n",
      "southwest    30.596615\n",
      "Name: bmi, dtype: float64\n"
     ]
    }
   ],
   "source": [
    "\n",
    "average_BMI_by_region = df.groupby(\"region\")[\"bmi\"].mean()\n",
    "print(average_BMI_by_region)"
   ]
  },
  {
   "cell_type": "markdown",
   "metadata": {},
   "source": [
    "When looking at the average BMI per region we notice that the Southeast has the highest BMI and that results in the higher cost per average. "
   ]
  },
  {
   "cell_type": "code",
   "execution_count": 46,
   "metadata": {},
   "outputs": [
    {
     "name": "stdout",
     "output_type": "stream",
     "text": [
      "smoker\n",
      "no      8434.268298\n",
      "yes    32050.231832\n",
      "Name: charges, dtype: float64\n"
     ]
    }
   ],
   "source": [
    "average_charges_by_smoker = df.groupby(\"smoker\")[\"charges\"].mean()\n",
    "print(average_charges_by_smoker)"
   ]
  },
  {
   "cell_type": "markdown",
   "metadata": {},
   "source": [
    "When looking at the cost difference of insurance of smoker vs non smoker the smoker has a much higher cost of insurance. The difference of smoker and non smoker is 23,615.96. That is a huge difference in price of insurance."
   ]
  },
  {
   "cell_type": "code",
   "execution_count": 40,
   "metadata": {},
   "outputs": [
    {
     "name": "stdout",
     "output_type": "stream",
     "text": [
      "      region  counts\n",
      "0  northeast      67\n",
      "1  northwest      58\n",
      "2  southeast      91\n",
      "3  southwest      58\n"
     ]
    }
   ],
   "source": [
    "smoker_count_by_region = df[df['smoker'] == 'yes'].groupby(\"region\").size().reset_index(name='counts')\n",
    "print(smoker_count_by_region)"
   ]
  },
  {
   "cell_type": "markdown",
   "metadata": {},
   "source": [
    "There are more smokers in the Southeast region which will increase the price of insurance for the southeast region as well. "
   ]
  },
  {
   "cell_type": "code",
   "execution_count": null,
   "metadata": {},
   "outputs": [],
   "source": []
  }
 ],
 "metadata": {
  "kernelspec": {
   "display_name": "Python 3 (ipykernel)",
   "language": "python",
   "name": "python3"
  },
  "language_info": {
   "codemirror_mode": {
    "name": "ipython",
    "version": 3
   },
   "file_extension": ".py",
   "mimetype": "text/x-python",
   "name": "python",
   "nbconvert_exporter": "python",
   "pygments_lexer": "ipython3",
   "version": "3.9.13"
  }
 },
 "nbformat": 4,
 "nbformat_minor": 4
}
